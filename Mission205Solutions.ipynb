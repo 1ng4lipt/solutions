{
 "cells": [
  {
   "cell_type": "markdown",
   "metadata": {},
   "source": [
    "# Data cleaning"
   ]
  },
  {
   "cell_type": "code",
   "execution_count": 63,
   "metadata": {
    "collapsed": false
   },
   "outputs": [
    {
     "data": {
      "text/html": [
       "<div style=\"max-height:1000px;max-width:1500px;overflow:auto;\">\n",
       "<table border=\"1\" class=\"dataframe\">\n",
       "  <thead>\n",
       "    <tr style=\"text-align: right;\">\n",
       "      <th></th>\n",
       "      <th>Year Released</th>\n",
       "      <th>Movie</th>\n",
       "      <th>Length</th>\n",
       "      <th>RT Score</th>\n",
       "      <th>IMDB Score</th>\n",
       "      <th>Metacritic Score</th>\n",
       "      <th>Opening Weekend</th>\n",
       "      <th>Worldwide Gross</th>\n",
       "      <th>Domestic Gross</th>\n",
       "      <th>Adjusted Domestic Gross</th>\n",
       "      <th>International Gross</th>\n",
       "      <th>Domestic %</th>\n",
       "      <th>International %</th>\n",
       "      <th>Production Budget</th>\n",
       "      <th>Oscars Nominated</th>\n",
       "      <th>Oscars Won</th>\n",
       "    </tr>\n",
       "  </thead>\n",
       "  <tbody>\n",
       "    <tr>\n",
       "      <th>0</th>\n",
       "      <td> 1995</td>\n",
       "      <td>      Toy Story</td>\n",
       "      <td>  81</td>\n",
       "      <td> 100</td>\n",
       "      <td> 8.3</td>\n",
       "      <td> 92</td>\n",
       "      <td> 29.14</td>\n",
       "      <td> 362.0</td>\n",
       "      <td> 191.8</td>\n",
       "      <td> 356.21</td>\n",
       "      <td> 170.2</td>\n",
       "      <td> 52.98%</td>\n",
       "      <td> 47.02%</td>\n",
       "      <td>  30</td>\n",
       "      <td> 3</td>\n",
       "      <td> 0</td>\n",
       "    </tr>\n",
       "    <tr>\n",
       "      <th>1</th>\n",
       "      <td> 1998</td>\n",
       "      <td>   A Bug's Life</td>\n",
       "      <td>  96</td>\n",
       "      <td>  92</td>\n",
       "      <td> 7.2</td>\n",
       "      <td> 77</td>\n",
       "      <td> 33.26</td>\n",
       "      <td> 363.4</td>\n",
       "      <td> 162.8</td>\n",
       "      <td> 277.18</td>\n",
       "      <td> 200.6</td>\n",
       "      <td> 44.80%</td>\n",
       "      <td> 55.20%</td>\n",
       "      <td>  45</td>\n",
       "      <td> 1</td>\n",
       "      <td> 0</td>\n",
       "    </tr>\n",
       "    <tr>\n",
       "      <th>2</th>\n",
       "      <td> 1999</td>\n",
       "      <td>    Toy Story 2</td>\n",
       "      <td>  92</td>\n",
       "      <td> 100</td>\n",
       "      <td> 7.9</td>\n",
       "      <td> 88</td>\n",
       "      <td> 57.39</td>\n",
       "      <td> 485.0</td>\n",
       "      <td> 245.9</td>\n",
       "      <td> 388.43</td>\n",
       "      <td> 239.2</td>\n",
       "      <td> 50.70%</td>\n",
       "      <td> 49.32%</td>\n",
       "      <td>  90</td>\n",
       "      <td> 1</td>\n",
       "      <td> 0</td>\n",
       "    </tr>\n",
       "    <tr>\n",
       "      <th>3</th>\n",
       "      <td> 2001</td>\n",
       "      <td> Monsters, Inc.</td>\n",
       "      <td>  90</td>\n",
       "      <td>  96</td>\n",
       "      <td> 8.1</td>\n",
       "      <td> 78</td>\n",
       "      <td> 62.58</td>\n",
       "      <td> 528.8</td>\n",
       "      <td> 255.9</td>\n",
       "      <td> 366.12</td>\n",
       "      <td> 272.9</td>\n",
       "      <td> 48.39%</td>\n",
       "      <td> 51.61%</td>\n",
       "      <td> 115</td>\n",
       "      <td> 3</td>\n",
       "      <td> 1</td>\n",
       "    </tr>\n",
       "    <tr>\n",
       "      <th>4</th>\n",
       "      <td> 2003</td>\n",
       "      <td>   Finding Nemo</td>\n",
       "      <td> 104</td>\n",
       "      <td>  99</td>\n",
       "      <td> 8.2</td>\n",
       "      <td> 90</td>\n",
       "      <td> 70.25</td>\n",
       "      <td> 895.6</td>\n",
       "      <td> 339.7</td>\n",
       "      <td> 457.46</td>\n",
       "      <td> 555.9</td>\n",
       "      <td> 37.93%</td>\n",
       "      <td> 62.07%</td>\n",
       "      <td>  94</td>\n",
       "      <td> 4</td>\n",
       "      <td> 1</td>\n",
       "    </tr>\n",
       "  </tbody>\n",
       "</table>\n",
       "</div>"
      ],
      "text/plain": [
       "   Year Released           Movie  Length  RT Score  IMDB Score  \\\n",
       "0           1995       Toy Story      81       100         8.3   \n",
       "1           1998    A Bug's Life      96        92         7.2   \n",
       "2           1999     Toy Story 2      92       100         7.9   \n",
       "3           2001  Monsters, Inc.      90        96         8.1   \n",
       "4           2003    Finding Nemo     104        99         8.2   \n",
       "\n",
       "   Metacritic Score  Opening Weekend  Worldwide Gross  Domestic Gross  \\\n",
       "0                92            29.14            362.0           191.8   \n",
       "1                77            33.26            363.4           162.8   \n",
       "2                88            57.39            485.0           245.9   \n",
       "3                78            62.58            528.8           255.9   \n",
       "4                90            70.25            895.6           339.7   \n",
       "\n",
       "   Adjusted Domestic Gross  International Gross Domestic % International %  \\\n",
       "0                   356.21                170.2     52.98%          47.02%   \n",
       "1                   277.18                200.6     44.80%          55.20%   \n",
       "2                   388.43                239.2     50.70%          49.32%   \n",
       "3                   366.12                272.9     48.39%          51.61%   \n",
       "4                   457.46                555.9     37.93%          62.07%   \n",
       "\n",
       "   Production Budget  Oscars Nominated  Oscars Won  \n",
       "0                 30                 3           0  \n",
       "1                 45                 1           0  \n",
       "2                 90                 1           0  \n",
       "3                115                 3           1  \n",
       "4                 94                 4           1  "
      ]
     },
     "execution_count": 63,
     "metadata": {},
     "output_type": "execute_result"
    }
   ],
   "source": [
    "import pandas as pd\n",
    "pixar = pd.read_csv(\"PixarMovies.csv\")\n",
    "\n",
    "pixar.head(5)"
   ]
  },
  {
   "cell_type": "code",
   "execution_count": 2,
   "metadata": {
    "collapsed": false
   },
   "outputs": [
    {
     "data": {
      "text/plain": [
       "Year Released                int64\n",
       "Movie                       object\n",
       "Length                       int64\n",
       "RT Score                     int64\n",
       "IMDB Score                 float64\n",
       "Metacritic Score             int64\n",
       "Opening Weekend            float64\n",
       "Worldwide Gross            float64\n",
       "Domestic Gross             float64\n",
       "Adjusted Domestic Gross    float64\n",
       "International Gross        float64\n",
       "Domestic %                  object\n",
       "International %             object\n",
       "Production Budget            int64\n",
       "Oscars Nominated           float64\n",
       "Oscars Won                 float64\n",
       "dtype: object"
      ]
     },
     "execution_count": 2,
     "metadata": {},
     "output_type": "execute_result"
    }
   ],
   "source": [
    "pixar.dtypes"
   ]
  },
  {
   "cell_type": "markdown",
   "metadata": {},
   "source": [
    "#### We need to convert the `Domestic %` and `International %` columns into `float` columns.  To do that, we need to drop the `%` character from each value (by taking advantage of [vectorized string operations](http://pandas.pydata.org/pandas-docs/stable/text.html#working-with-text-data)) in those columns and use the `astype()` method to convert to `float` dtype. Try converting the column to the `float` dtypes without removing the `%` sign at the end and see what happens."
   ]
  },
  {
   "cell_type": "code",
   "execution_count": 64,
   "metadata": {
    "collapsed": true
   },
   "outputs": [],
   "source": [
    "# Use the `str` attribute followed by the string method `rstrip()` to apply the string method to every value in the column.\n",
    "pixar[\"Domestic %\"] = pixar[\"Domestic %\"].str.rstrip(\"%\").astype(\"float\")\n",
    "pixar[\"International %\"] = pixar[\"International %\"].str.rstrip(\"%\").astype(\"float\")"
   ]
  },
  {
   "cell_type": "markdown",
   "metadata": {},
   "source": [
    "##### We need to check if any of the columns have missing values. In the following code, we:\n",
    "\n",
    "- Use a `for` loop to iterate through the columns\n",
    "- Use the Series method [`isnull()`](http://pandas.pydata.org/pandas-docs/stable/generated/pandas.Series.isnull.html) to return a Boolean Series for the values in each column. The Boolean Series will contain `True` as the value for that row index if the value is null (or a `NaN` object).\n",
    "- Use Boolean filtering to only return rows that have a `NaN` value for that column.\n",
    "- If the returned DataFrame has more than 0 results, grab the index using the `index` attribute and call the `tolist()` method on the resulting Index object. Add the resulting list of indices to `bad_rows`.\n",
    "- Outside the loop, use the `loc[]` method to select the rows that contain null values."
   ]
  },
  {
   "cell_type": "code",
   "execution_count": 46,
   "metadata": {
    "collapsed": false,
    "scrolled": true
   },
   "outputs": [
    {
     "data": {
      "text/html": [
       "<div style=\"max-height:1000px;max-width:1500px;overflow:auto;\">\n",
       "<table border=\"1\" class=\"dataframe\">\n",
       "  <thead>\n",
       "    <tr style=\"text-align: right;\">\n",
       "      <th></th>\n",
       "      <th>Year Released</th>\n",
       "      <th>Movie</th>\n",
       "      <th>Length</th>\n",
       "      <th>RT Score</th>\n",
       "      <th>IMDB Score</th>\n",
       "      <th>Metacritic Score</th>\n",
       "      <th>Opening Weekend</th>\n",
       "      <th>Worldwide Gross</th>\n",
       "      <th>Domestic Gross</th>\n",
       "      <th>Adjusted Domestic Gross</th>\n",
       "      <th>International Gross</th>\n",
       "      <th>Domestic %</th>\n",
       "      <th>International %</th>\n",
       "      <th>Production Budget</th>\n",
       "      <th>Oscars Nominated</th>\n",
       "      <th>Oscars Won</th>\n",
       "    </tr>\n",
       "  </thead>\n",
       "  <tbody>\n",
       "    <tr>\n",
       "      <th>14</th>\n",
       "      <td> 2015</td>\n",
       "      <td> Inside Out</td>\n",
       "      <td> 102</td>\n",
       "      <td> 98</td>\n",
       "      <td> 8.8</td>\n",
       "      <td> 93</td>\n",
       "      <td> 90.4</td>\n",
       "      <td> 677.1</td>\n",
       "      <td> 340.5</td>\n",
       "      <td> 340.5</td>\n",
       "      <td> 336.6</td>\n",
       "      <td> 50.29%</td>\n",
       "      <td> 49.71%</td>\n",
       "      <td> 175</td>\n",
       "      <td>NaN</td>\n",
       "      <td>NaN</td>\n",
       "    </tr>\n",
       "    <tr>\n",
       "      <th>14</th>\n",
       "      <td> 2015</td>\n",
       "      <td> Inside Out</td>\n",
       "      <td> 102</td>\n",
       "      <td> 98</td>\n",
       "      <td> 8.8</td>\n",
       "      <td> 93</td>\n",
       "      <td> 90.4</td>\n",
       "      <td> 677.1</td>\n",
       "      <td> 340.5</td>\n",
       "      <td> 340.5</td>\n",
       "      <td> 336.6</td>\n",
       "      <td> 50.29%</td>\n",
       "      <td> 49.71%</td>\n",
       "      <td> 175</td>\n",
       "      <td>NaN</td>\n",
       "      <td>NaN</td>\n",
       "    </tr>\n",
       "  </tbody>\n",
       "</table>\n",
       "</div>"
      ],
      "text/plain": [
       "    Year Released       Movie  Length  RT Score  IMDB Score  Metacritic Score  \\\n",
       "14           2015  Inside Out     102        98         8.8                93   \n",
       "14           2015  Inside Out     102        98         8.8                93   \n",
       "\n",
       "    Opening Weekend  Worldwide Gross  Domestic Gross  Adjusted Domestic Gross  \\\n",
       "14             90.4            677.1           340.5                    340.5   \n",
       "14             90.4            677.1           340.5                    340.5   \n",
       "\n",
       "    International Gross Domestic % International %  Production Budget  \\\n",
       "14                336.6     50.29%          49.71%                175   \n",
       "14                336.6     50.29%          49.71%                175   \n",
       "\n",
       "    Oscars Nominated  Oscars Won  \n",
       "14               NaN         NaN  \n",
       "14               NaN         NaN  "
      ]
     },
     "execution_count": 46,
     "metadata": {},
     "output_type": "execute_result"
    }
   ],
   "source": [
    "# Long way\n",
    "bad_row_indices = []\n",
    "for col in pixar.columns:\n",
    "    boolean_series = pixar[col].isnull()\n",
    "    null_rows = pixar[boolean_series]\n",
    "    if len(null_rows) > 0:\n",
    "        bad_row_indices += null_rows.index.tolist()\n",
    "pixar.loc[bad_row_indices]"
   ]
  },
  {
   "cell_type": "code",
   "execution_count": 32,
   "metadata": {
    "collapsed": false,
    "scrolled": true
   },
   "outputs": [
    {
     "name": "stdout",
     "output_type": "stream",
     "text": [
      "    Year Released       Movie  Length  RT Score  IMDB Score  Metacritic Score  \\\n",
      "14           2015  Inside Out     102        98         8.8                93   \n",
      "\n",
      "    Opening Weekend  Worldwide Gross  Domestic Gross  Adjusted Domestic Gross  \\\n",
      "14             90.4            677.1           340.5                    340.5   \n",
      "\n",
      "    International Gross Domestic % International %  Production Budget  \\\n",
      "14                336.6     50.29%          49.71%                175   \n",
      "\n",
      "    Oscars Nominated  Oscars Won  \n",
      "14               NaN         NaN  \n",
      "Year Released              False\n",
      "Movie                      False\n",
      "Length                     False\n",
      "RT Score                   False\n",
      "IMDB Score                 False\n",
      "Metacritic Score           False\n",
      "Opening Weekend            False\n",
      "Worldwide Gross            False\n",
      "Domestic Gross             False\n",
      "Adjusted Domestic Gross    False\n",
      "International Gross        False\n",
      "Domestic %                 False\n",
      "International %            False\n",
      "Production Budget          False\n",
      "Oscars Nominated            True\n",
      "Oscars Won                  True\n",
      "dtype: bool\n",
      "0     False\n",
      "1     False\n",
      "2     False\n",
      "3     False\n",
      "4     False\n",
      "5     False\n",
      "6     False\n",
      "7     False\n",
      "8     False\n",
      "9     False\n",
      "10    False\n",
      "11    False\n",
      "12    False\n",
      "13    False\n",
      "14     True\n",
      "dtype: bool\n"
     ]
    },
    {
     "data": {
      "text/html": [
       "<div style=\"max-height:1000px;max-width:1500px;overflow:auto;\">\n",
       "<table border=\"1\" class=\"dataframe\">\n",
       "  <thead>\n",
       "    <tr style=\"text-align: right;\">\n",
       "      <th></th>\n",
       "      <th>Year Released</th>\n",
       "      <th>Movie</th>\n",
       "      <th>Length</th>\n",
       "      <th>RT Score</th>\n",
       "      <th>IMDB Score</th>\n",
       "      <th>Metacritic Score</th>\n",
       "      <th>Opening Weekend</th>\n",
       "      <th>Worldwide Gross</th>\n",
       "      <th>Domestic Gross</th>\n",
       "      <th>Adjusted Domestic Gross</th>\n",
       "      <th>International Gross</th>\n",
       "      <th>Domestic %</th>\n",
       "      <th>International %</th>\n",
       "      <th>Production Budget</th>\n",
       "      <th>Oscars Nominated</th>\n",
       "      <th>Oscars Won</th>\n",
       "    </tr>\n",
       "  </thead>\n",
       "  <tbody>\n",
       "    <tr>\n",
       "      <th>14</th>\n",
       "      <td> 2015</td>\n",
       "      <td> Inside Out</td>\n",
       "      <td> 102</td>\n",
       "      <td> 98</td>\n",
       "      <td> 8.8</td>\n",
       "      <td> 93</td>\n",
       "      <td> 90.4</td>\n",
       "      <td> 677.1</td>\n",
       "      <td> 340.5</td>\n",
       "      <td> 340.5</td>\n",
       "      <td> 336.6</td>\n",
       "      <td> 50.29%</td>\n",
       "      <td> 49.71%</td>\n",
       "      <td> 175</td>\n",
       "      <td>NaN</td>\n",
       "      <td>NaN</td>\n",
       "    </tr>\n",
       "  </tbody>\n",
       "</table>\n",
       "</div>"
      ],
      "text/plain": [
       "    Year Released       Movie  Length  RT Score  IMDB Score  Metacritic Score  \\\n",
       "14           2015  Inside Out     102        98         8.8                93   \n",
       "\n",
       "    Opening Weekend  Worldwide Gross  Domestic Gross  Adjusted Domestic Gross  \\\n",
       "14             90.4            677.1           340.5                    340.5   \n",
       "\n",
       "    International Gross Domestic % International %  Production Budget  \\\n",
       "14                336.6     50.29%          49.71%                175   \n",
       "\n",
       "    Oscars Nominated  Oscars Won  \n",
       "14               NaN         NaN  "
      ]
     },
     "execution_count": 32,
     "metadata": {},
     "output_type": "execute_result"
    }
   ],
   "source": [
    "# A quick google search for \"pandas show rows with missing values\" \n",
    "# finds us a shortcut, courtesy of StackOverflow - http://stackoverflow.com/a/30447205\n",
    "print(pixar[pixar.isnull().any(axis=1)])\n",
    "\n",
    "# Let's break down the shortcut above, which utilizes the \n",
    "# `any()` method - http://pandas.pydata.org/pandas-docs/version/0.17.1/generated/pandas.DataFrame.any.html\n",
    "\n",
    "# Does the column contain any NaN values (axis=0), True or False\n",
    "print(pixar.isnull().any(axis=0))\n",
    "\n",
    "# Does the row contain any NaN values (axis=1), True or False\n",
    "print(pixar.isnull().any(axis=1))\n",
    "\n",
    "# Show me only the rows that contain a NaN value\n",
    "pixar[pixar.isnull().any(axis=1)]"
   ]
  },
  {
   "cell_type": "markdown",
   "metadata": {},
   "source": [
    "It seems like the null values are concentrated in just one movie (Inside Out) in the `Oscars Nominated` and `Oscars Won` columns.  Since Matplotlib skips `NaN` values when plotting, we can leave these values for now."
   ]
  },
  {
   "cell_type": "markdown",
   "metadata": {},
   "source": [
    "##### Convert the `IMDB Score` column to a 100 point scale, to match the `RT Score` and `Metacritic Score` columns."
   ]
  },
  {
   "cell_type": "code",
   "execution_count": 65,
   "metadata": {
    "collapsed": false
   },
   "outputs": [],
   "source": [
    "pixar[\"IMDB Score\"] = pixar[\"IMDB Score\"] * 10"
   ]
  },
  {
   "cell_type": "markdown",
   "metadata": {},
   "source": [
    "# Data Visualization, Histograms"
   ]
  },
  {
   "cell_type": "code",
   "execution_count": 66,
   "metadata": {
    "collapsed": true
   },
   "outputs": [],
   "source": [
    "import matplotlib.pyplot as plt\n",
    "% matplotlib inline"
   ]
  },
  {
   "cell_type": "code",
   "execution_count": 50,
   "metadata": {
    "collapsed": false
   },
   "outputs": [
    {
     "name": "stdout",
     "output_type": "stream",
     "text": [
      "Year Released                int64\n",
      "Movie                       object\n",
      "Length                       int64\n",
      "RT Score                     int64\n",
      "IMDB Score                 float64\n",
      "Metacritic Score             int64\n",
      "Opening Weekend            float64\n",
      "Worldwide Gross            float64\n",
      "Domestic Gross             float64\n",
      "Adjusted Domestic Gross    float64\n",
      "International Gross        float64\n",
      "Domestic %                  object\n",
      "International %             object\n",
      "Production Budget            int64\n",
      "Oscars Nominated           float64\n",
      "Oscars Won                 float64\n",
      "dtype: object\n",
      "['Year Released', 'Length', 'RT Score', 'IMDB Score', 'Metacritic Score', 'Opening Weekend', 'Worldwide Gross', 'Domestic Gross', 'Adjusted Domestic Gross', 'International Gross', 'Production Budget', 'Oscars Nominated', 'Oscars Won']\n"
     ]
    }
   ],
   "source": [
    "# Iterate through Series object that represents a DataFrame column's dtypes\n",
    "# and only append the non-object columns to `numeric_columns`.\n",
    "print(pixar.dtypes)\n",
    "numeric_columns = []\n",
    "for index,value in pixar.dtypes.iteritems():\n",
    "    if value != \"object\":\n",
    "        numeric_columns.append(index)\n",
    "print(numeric_columns)"
   ]
  },
  {
   "cell_type": "code",
   "execution_count": 53,
   "metadata": {
    "collapsed": false
   },
   "outputs": [
    {
     "data": {
      "image/png": "[encoded data removed]",
      "text/plain": [
       "<matplotlib.figure.Figure at 0x109b8f7b8>"
      ]
     },
     "metadata": {},
     "output_type": "display_data"
    },
    {
     "data": {
      "image/png": "[encoded data removed]",
      "text/plain": [
       "<matplotlib.figure.Figure at 0x1091d88d0>"
      ]
     },
     "metadata": {},
     "output_type": "display_data"
    },
    {
     "data": {
      "image/png": "[encoded data removed]",
      "text/plain": [
       "<matplotlib.figure.Figure at 0x1097e1208>"
      ]
     },
     "metadata": {},
     "output_type": "display_data"
    },
    {
     "data": {
      "image/png": "[encoded data removed]",
      "text/plain": [
       "<matplotlib.figure.Figure at 0x109b96c50>"
      ]
     },
     "metadata": {},
     "output_type": "display_data"
    },
    {
     "data": {
      "image/png": "[encoded data removed]",
      "text/plain": [
       "<matplotlib.figure.Figure at 0x109707cc0>"
      ]
     },
     "metadata": {},
     "output_type": "display_data"
    },
    {
     "data": {
      "image/png": "[encoded data removed]",
      "text/plain": [
       "<matplotlib.figure.Figure at 0x1091a1208>"
      ]
     },
     "metadata": {},
     "output_type": "display_data"
    },
    {
     "data": {
      "image/png": "[encoded data removed]",
      "text/plain": [
       "<matplotlib.figure.Figure at 0x109b8fb70>"
      ]
     },
     "metadata": {},
     "output_type": "display_data"
    },
    {
     "data": {
      "image/png": "[encoded data removed]",
      "text/plain": [
       "<matplotlib.figure.Figure at 0x1097695f8>"
      ]
     },
     "metadata": {},
     "output_type": "display_data"
    },
    {
     "data": {
      "image/png": "[encoded data removed]",
      "text/plain": [
       "<matplotlib.figure.Figure at 0x109276f98>"
      ]
     },
     "metadata": {},
     "output_type": "display_data"
    },
    {
     "data": {
      "image/png": "[encoded data removed]",
      "text/plain": [
       "<matplotlib.figure.Figure at 0x10970b160>"
      ]
     },
     "metadata": {},
     "output_type": "display_data"
    },
    {
     "data": {
      "image/png": "[encoded data removed]",
      "text/plain": [
       "<matplotlib.figure.Figure at 0x109b81748>"
      ]
     },
     "metadata": {},
     "output_type": "display_data"
    },
    {
     "data": {
      "image/png": "[encoded data removed]",
      "text/plain": [
       "<matplotlib.figure.Figure at 0x109973ef0>"
      ]
     },
     "metadata": {},
     "output_type": "display_data"
    },
    {
     "data": {
      "image/png": "[encoded data removed]",
      "text/plain": [
       "<matplotlib.figure.Figure at 0x109b106d8>"
      ]
     },
     "metadata": {},
     "output_type": "display_data"
    }
   ],
   "source": [
    "for num_col in numeric_columns:\n",
    "    pixar[num_col].hist()\n",
    "    plt.title(num_col)\n",
    "    plt.show()"
   ]
  },
  {
   "cell_type": "markdown",
   "metadata": {},
   "source": [
    "# Data Visualization, Scatter Plots"
   ]
  },
  {
   "cell_type": "markdown",
   "metadata": {},
   "source": [
    "##### How does the length of a movie correlate to how the critics rated it?"
   ]
  },
  {
   "cell_type": "code",
   "execution_count": 59,
   "metadata": {
    "collapsed": false
   },
   "outputs": [
    {
     "data": {
      "image/png": "[encoded data removed]",
      "text/plain": [
       "<matplotlib.figure.Figure at 0x109dbfd68>"
      ]
     },
     "metadata": {},
     "output_type": "display_data"
    }
   ],
   "source": [
    "plt.scatter(pixar[\"Length\"], pixar[\"RT Score\"], c=\"blue\")\n",
    "plt.scatter(pixar[\"Length\"], pixar[\"IMDB Score\"], c=\"green\")\n",
    "plt.scatter(pixar[\"Length\"], pixar[\"Metacritic Score\"], c=\"red\")\n",
    "plt.show()"
   ]
  },
  {
   "cell_type": "markdown",
   "metadata": {},
   "source": [
    "#### How does the production budget correlate to the number of oscars a movie was nominated for? "
   ]
  },
  {
   "cell_type": "code",
   "execution_count": 70,
   "metadata": {
    "collapsed": false
   },
   "outputs": [
    {
     "data": {
      "image/png": "[encoded data removed]",
      "text/plain": [
       "<matplotlib.figure.Figure at 0x1097ca4a8>"
      ]
     },
     "metadata": {},
     "output_type": "display_data"
    }
   ],
   "source": [
    "plt.scatter(pixar[\"Production Budget\"], pixar[\"Oscars Nominated\"])\n",
    "plt.show()"
   ]
  },
  {
   "cell_type": "markdown",
   "metadata": {},
   "source": [
    "#### How does the production budget correlate to the domestic gross revenue and the international gross revenue?"
   ]
  },
  {
   "cell_type": "code",
   "execution_count": 72,
   "metadata": {
    "collapsed": false
   },
   "outputs": [
    {
     "data": {
      "image/png": "[encoded data removed]",
      "text/plain": [
       "<matplotlib.figure.Figure at 0x108f8e4a8>"
      ]
     },
     "metadata": {},
     "output_type": "display_data"
    },
    {
     "data": {
      "image/png": "[encoded data removed]",
      "text/plain": [
       "<matplotlib.figure.Figure at 0x109b5f710>"
      ]
     },
     "metadata": {},
     "output_type": "display_data"
    }
   ],
   "source": [
    "plt.scatter(pixar[\"Production Budget\"], pixar[\"Domestic Gross\"])\n",
    "plt.show()\n",
    "plt.scatter(pixar[\"Production Budget\"], pixar[\"International Gross\"])\n",
    "plt.show()"
   ]
  },
  {
   "cell_type": "markdown",
   "metadata": {},
   "source": [
    "# Data visualization, Stacked Bar Plot"
   ]
  },
  {
   "cell_type": "code",
   "execution_count": 62,
   "metadata": {
    "collapsed": false,
    "scrolled": true
   },
   "outputs": [
    {
     "data": {
      "text/html": [
       "<div style=\"max-height:1000px;max-width:1500px;overflow:auto;\">\n",
       "<table border=\"1\" class=\"dataframe\">\n",
       "  <thead>\n",
       "    <tr style=\"text-align: right;\">\n",
       "      <th></th>\n",
       "      <th>Year Released</th>\n",
       "      <th>Movie</th>\n",
       "      <th>Length</th>\n",
       "      <th>RT Score</th>\n",
       "      <th>IMDB Score</th>\n",
       "      <th>Metacritic Score</th>\n",
       "      <th>Opening Weekend</th>\n",
       "      <th>Worldwide Gross</th>\n",
       "      <th>Domestic Gross</th>\n",
       "      <th>Adjusted Domestic Gross</th>\n",
       "      <th>International Gross</th>\n",
       "      <th>Domestic %</th>\n",
       "      <th>International %</th>\n",
       "      <th>Production Budget</th>\n",
       "      <th>Oscars Nominated</th>\n",
       "      <th>Oscars Won</th>\n",
       "    </tr>\n",
       "  </thead>\n",
       "  <tbody>\n",
       "    <tr>\n",
       "      <th>0 </th>\n",
       "      <td> 1995</td>\n",
       "      <td>           Toy Story</td>\n",
       "      <td>  81</td>\n",
       "      <td> 100</td>\n",
       "      <td> 83</td>\n",
       "      <td> 92</td>\n",
       "      <td>  29.14</td>\n",
       "      <td>  362.0</td>\n",
       "      <td> 191.8</td>\n",
       "      <td> 356.21</td>\n",
       "      <td> 170.2</td>\n",
       "      <td> 52.98%</td>\n",
       "      <td> 47.02%</td>\n",
       "      <td>  30</td>\n",
       "      <td>  3</td>\n",
       "      <td>  0</td>\n",
       "    </tr>\n",
       "    <tr>\n",
       "      <th>1 </th>\n",
       "      <td> 1998</td>\n",
       "      <td>        A Bug's Life</td>\n",
       "      <td>  96</td>\n",
       "      <td>  92</td>\n",
       "      <td> 72</td>\n",
       "      <td> 77</td>\n",
       "      <td>  33.26</td>\n",
       "      <td>  363.4</td>\n",
       "      <td> 162.8</td>\n",
       "      <td> 277.18</td>\n",
       "      <td> 200.6</td>\n",
       "      <td> 44.80%</td>\n",
       "      <td> 55.20%</td>\n",
       "      <td>  45</td>\n",
       "      <td>  1</td>\n",
       "      <td>  0</td>\n",
       "    </tr>\n",
       "    <tr>\n",
       "      <th>2 </th>\n",
       "      <td> 1999</td>\n",
       "      <td>         Toy Story 2</td>\n",
       "      <td>  92</td>\n",
       "      <td> 100</td>\n",
       "      <td> 79</td>\n",
       "      <td> 88</td>\n",
       "      <td>  57.39</td>\n",
       "      <td>  485.0</td>\n",
       "      <td> 245.9</td>\n",
       "      <td> 388.43</td>\n",
       "      <td> 239.2</td>\n",
       "      <td> 50.70%</td>\n",
       "      <td> 49.32%</td>\n",
       "      <td>  90</td>\n",
       "      <td>  1</td>\n",
       "      <td>  0</td>\n",
       "    </tr>\n",
       "    <tr>\n",
       "      <th>3 </th>\n",
       "      <td> 2001</td>\n",
       "      <td>      Monsters, Inc.</td>\n",
       "      <td>  90</td>\n",
       "      <td>  96</td>\n",
       "      <td> 81</td>\n",
       "      <td> 78</td>\n",
       "      <td>  62.58</td>\n",
       "      <td>  528.8</td>\n",
       "      <td> 255.9</td>\n",
       "      <td> 366.12</td>\n",
       "      <td> 272.9</td>\n",
       "      <td> 48.39%</td>\n",
       "      <td> 51.61%</td>\n",
       "      <td> 115</td>\n",
       "      <td>  3</td>\n",
       "      <td>  1</td>\n",
       "    </tr>\n",
       "    <tr>\n",
       "      <th>4 </th>\n",
       "      <td> 2003</td>\n",
       "      <td>        Finding Nemo</td>\n",
       "      <td> 104</td>\n",
       "      <td>  99</td>\n",
       "      <td> 82</td>\n",
       "      <td> 90</td>\n",
       "      <td>  70.25</td>\n",
       "      <td>  895.6</td>\n",
       "      <td> 339.7</td>\n",
       "      <td> 457.46</td>\n",
       "      <td> 555.9</td>\n",
       "      <td> 37.93%</td>\n",
       "      <td> 62.07%</td>\n",
       "      <td>  94</td>\n",
       "      <td>  4</td>\n",
       "      <td>  1</td>\n",
       "    </tr>\n",
       "    <tr>\n",
       "      <th>5 </th>\n",
       "      <td> 2004</td>\n",
       "      <td>     The Incredibles</td>\n",
       "      <td> 115</td>\n",
       "      <td>  97</td>\n",
       "      <td> 80</td>\n",
       "      <td> 90</td>\n",
       "      <td>  70.47</td>\n",
       "      <td>  631.4</td>\n",
       "      <td> 261.4</td>\n",
       "      <td> 341.28</td>\n",
       "      <td> 370.0</td>\n",
       "      <td> 41.40%</td>\n",
       "      <td> 58.60%</td>\n",
       "      <td>  92</td>\n",
       "      <td>  4</td>\n",
       "      <td>  2</td>\n",
       "    </tr>\n",
       "    <tr>\n",
       "      <th>6 </th>\n",
       "      <td> 2006</td>\n",
       "      <td>                Cars</td>\n",
       "      <td> 116</td>\n",
       "      <td>  74</td>\n",
       "      <td> 72</td>\n",
       "      <td> 73</td>\n",
       "      <td>  60.12</td>\n",
       "      <td>  462.0</td>\n",
       "      <td> 244.1</td>\n",
       "      <td> 302.59</td>\n",
       "      <td> 217.9</td>\n",
       "      <td> 52.84%</td>\n",
       "      <td> 47.16%</td>\n",
       "      <td>  70</td>\n",
       "      <td>  2</td>\n",
       "      <td>  0</td>\n",
       "    </tr>\n",
       "    <tr>\n",
       "      <th>7 </th>\n",
       "      <td> 2007</td>\n",
       "      <td>         Ratatouille</td>\n",
       "      <td> 111</td>\n",
       "      <td>  96</td>\n",
       "      <td> 80</td>\n",
       "      <td> 96</td>\n",
       "      <td>  47.00</td>\n",
       "      <td>  623.7</td>\n",
       "      <td> 206.4</td>\n",
       "      <td> 243.65</td>\n",
       "      <td> 417.3</td>\n",
       "      <td> 33.09%</td>\n",
       "      <td> 66.91%</td>\n",
       "      <td> 150</td>\n",
       "      <td>  5</td>\n",
       "      <td>  1</td>\n",
       "    </tr>\n",
       "    <tr>\n",
       "      <th>8 </th>\n",
       "      <td> 2008</td>\n",
       "      <td>              WALL-E</td>\n",
       "      <td>  97</td>\n",
       "      <td>  96</td>\n",
       "      <td> 84</td>\n",
       "      <td> 94</td>\n",
       "      <td>  63.10</td>\n",
       "      <td>  521.3</td>\n",
       "      <td> 223.8</td>\n",
       "      <td> 253.11</td>\n",
       "      <td> 297.5</td>\n",
       "      <td> 42.93%</td>\n",
       "      <td> 57.07%</td>\n",
       "      <td> 180</td>\n",
       "      <td>  6</td>\n",
       "      <td>  1</td>\n",
       "    </tr>\n",
       "    <tr>\n",
       "      <th>9 </th>\n",
       "      <td> 2009</td>\n",
       "      <td>                  Up</td>\n",
       "      <td>  96</td>\n",
       "      <td>  98</td>\n",
       "      <td> 83</td>\n",
       "      <td> 88</td>\n",
       "      <td>  68.11</td>\n",
       "      <td>  731.3</td>\n",
       "      <td> 293.0</td>\n",
       "      <td> 318.90</td>\n",
       "      <td> 438.3</td>\n",
       "      <td> 40.07%</td>\n",
       "      <td> 59.93%</td>\n",
       "      <td> 175</td>\n",
       "      <td>  5</td>\n",
       "      <td>  2</td>\n",
       "    </tr>\n",
       "    <tr>\n",
       "      <th>10</th>\n",
       "      <td> 2010</td>\n",
       "      <td>         Toy Story 3</td>\n",
       "      <td> 103</td>\n",
       "      <td>  99</td>\n",
       "      <td> 84</td>\n",
       "      <td> 92</td>\n",
       "      <td> 110.31</td>\n",
       "      <td> 1063.2</td>\n",
       "      <td> 415.0</td>\n",
       "      <td> 423.88</td>\n",
       "      <td> 648.2</td>\n",
       "      <td> 39.03%</td>\n",
       "      <td> 60.97%</td>\n",
       "      <td> 200</td>\n",
       "      <td>  5</td>\n",
       "      <td>  2</td>\n",
       "    </tr>\n",
       "    <tr>\n",
       "      <th>11</th>\n",
       "      <td> 2011</td>\n",
       "      <td>              Cars 2</td>\n",
       "      <td> 113</td>\n",
       "      <td>  39</td>\n",
       "      <td> 63</td>\n",
       "      <td> 57</td>\n",
       "      <td> 109.00</td>\n",
       "      <td>  559.9</td>\n",
       "      <td> 191.5</td>\n",
       "      <td> 194.43</td>\n",
       "      <td> 368.4</td>\n",
       "      <td> 34.20%</td>\n",
       "      <td> 65.80%</td>\n",
       "      <td> 200</td>\n",
       "      <td>  0</td>\n",
       "      <td>  0</td>\n",
       "    </tr>\n",
       "    <tr>\n",
       "      <th>12</th>\n",
       "      <td> 2012</td>\n",
       "      <td>               Brave</td>\n",
       "      <td> 100</td>\n",
       "      <td>  78</td>\n",
       "      <td> 72</td>\n",
       "      <td> 69</td>\n",
       "      <td>  66.30</td>\n",
       "      <td>  539.0</td>\n",
       "      <td> 237.3</td>\n",
       "      <td> 243.39</td>\n",
       "      <td> 301.7</td>\n",
       "      <td> 44.03%</td>\n",
       "      <td> 55.97%</td>\n",
       "      <td> 185</td>\n",
       "      <td>  1</td>\n",
       "      <td>  1</td>\n",
       "    </tr>\n",
       "    <tr>\n",
       "      <th>13</th>\n",
       "      <td> 2013</td>\n",
       "      <td> Monsters University</td>\n",
       "      <td> 107</td>\n",
       "      <td>  78</td>\n",
       "      <td> 74</td>\n",
       "      <td> 65</td>\n",
       "      <td>  82.43</td>\n",
       "      <td>  743.6</td>\n",
       "      <td> 268.5</td>\n",
       "      <td> 269.59</td>\n",
       "      <td> 475.1</td>\n",
       "      <td> 36.11%</td>\n",
       "      <td> 63.89%</td>\n",
       "      <td> 200</td>\n",
       "      <td>  0</td>\n",
       "      <td>  0</td>\n",
       "    </tr>\n",
       "    <tr>\n",
       "      <th>14</th>\n",
       "      <td> 2015</td>\n",
       "      <td>          Inside Out</td>\n",
       "      <td> 102</td>\n",
       "      <td>  98</td>\n",
       "      <td> 88</td>\n",
       "      <td> 93</td>\n",
       "      <td>  90.40</td>\n",
       "      <td>  677.1</td>\n",
       "      <td> 340.5</td>\n",
       "      <td> 340.50</td>\n",
       "      <td> 336.6</td>\n",
       "      <td> 50.29%</td>\n",
       "      <td> 49.71%</td>\n",
       "      <td> 175</td>\n",
       "      <td>NaN</td>\n",
       "      <td>NaN</td>\n",
       "    </tr>\n",
       "  </tbody>\n",
       "</table>\n",
       "</div>"
      ],
      "text/plain": [
       "    Year Released                Movie  Length  RT Score  IMDB Score  \\\n",
       "0            1995            Toy Story      81       100          83   \n",
       "1            1998         A Bug's Life      96        92          72   \n",
       "2            1999          Toy Story 2      92       100          79   \n",
       "3            2001       Monsters, Inc.      90        96          81   \n",
       "4            2003         Finding Nemo     104        99          82   \n",
       "5            2004      The Incredibles     115        97          80   \n",
       "6            2006                 Cars     116        74          72   \n",
       "7            2007          Ratatouille     111        96          80   \n",
       "8            2008               WALL-E      97        96          84   \n",
       "9            2009                   Up      96        98          83   \n",
       "10           2010          Toy Story 3     103        99          84   \n",
       "11           2011               Cars 2     113        39          63   \n",
       "12           2012                Brave     100        78          72   \n",
       "13           2013  Monsters University     107        78          74   \n",
       "14           2015           Inside Out     102        98          88   \n",
       "\n",
       "    Metacritic Score  Opening Weekend  Worldwide Gross  Domestic Gross  \\\n",
       "0                 92            29.14            362.0           191.8   \n",
       "1                 77            33.26            363.4           162.8   \n",
       "2                 88            57.39            485.0           245.9   \n",
       "3                 78            62.58            528.8           255.9   \n",
       "4                 90            70.25            895.6           339.7   \n",
       "5                 90            70.47            631.4           261.4   \n",
       "6                 73            60.12            462.0           244.1   \n",
       "7                 96            47.00            623.7           206.4   \n",
       "8                 94            63.10            521.3           223.8   \n",
       "9                 88            68.11            731.3           293.0   \n",
       "10                92           110.31           1063.2           415.0   \n",
       "11                57           109.00            559.9           191.5   \n",
       "12                69            66.30            539.0           237.3   \n",
       "13                65            82.43            743.6           268.5   \n",
       "14                93            90.40            677.1           340.5   \n",
       "\n",
       "    Adjusted Domestic Gross  International Gross Domestic % International %  \\\n",
       "0                    356.21                170.2     52.98%          47.02%   \n",
       "1                    277.18                200.6     44.80%          55.20%   \n",
       "2                    388.43                239.2     50.70%          49.32%   \n",
       "3                    366.12                272.9     48.39%          51.61%   \n",
       "4                    457.46                555.9     37.93%          62.07%   \n",
       "5                    341.28                370.0     41.40%          58.60%   \n",
       "6                    302.59                217.9     52.84%          47.16%   \n",
       "7                    243.65                417.3     33.09%          66.91%   \n",
       "8                    253.11                297.5     42.93%          57.07%   \n",
       "9                    318.90                438.3     40.07%          59.93%   \n",
       "10                   423.88                648.2     39.03%          60.97%   \n",
       "11                   194.43                368.4     34.20%          65.80%   \n",
       "12                   243.39                301.7     44.03%          55.97%   \n",
       "13                   269.59                475.1     36.11%          63.89%   \n",
       "14                   340.50                336.6     50.29%          49.71%   \n",
       "\n",
       "    Production Budget  Oscars Nominated  Oscars Won  \n",
       "0                  30                 3           0  \n",
       "1                  45                 1           0  \n",
       "2                  90                 1           0  \n",
       "3                 115                 3           1  \n",
       "4                  94                 4           1  \n",
       "5                  92                 4           2  \n",
       "6                  70                 2           0  \n",
       "7                 150                 5           1  \n",
       "8                 180                 6           1  \n",
       "9                 175                 5           2  \n",
       "10                200                 5           2  \n",
       "11                200                 0           0  \n",
       "12                185                 1           1  \n",
       "13                200                 0           0  \n",
       "14                175               NaN         NaN  "
      ]
     },
     "execution_count": 62,
     "metadata": {},
     "output_type": "execute_result"
    }
   ],
   "source": [
    "pixar"
   ]
  },
  {
   "cell_type": "code",
   "execution_count": 68,
   "metadata": {
    "collapsed": false
   },
   "outputs": [
    {
     "data": {
      "image/png": "[encoded data removed]",
      "text/plain": [
       "<matplotlib.figure.Figure at 0x109797080>"
      ]
     },
     "metadata": {},
     "output_type": "display_data"
    }
   ],
   "source": [
    "# Create a stacked bar plot using the Domestic % and International % columns.\n",
    "pixar[[\"Domestic %\", \"International %\"]].plot(kind='bar', stacked=True)\n",
    "plt.show()"
   ]
  },
  {
   "cell_type": "code",
   "execution_count": 69,
   "metadata": {
    "collapsed": false
   },
   "outputs": [
    {
     "data": {
      "text/plain": [
       "<matplotlib.axes._subplots.AxesSubplot at 0x109c37320>"
      ]
     },
     "execution_count": 69,
     "metadata": {},
     "output_type": "execute_result"
    },
    {
     "data": {
      "image/png": "[encoded data removed]",
      "text/plain": [
       "<matplotlib.figure.Figure at 0x109a74208>"
      ]
     },
     "metadata": {},
     "output_type": "display_data"
    }
   ],
   "source": [
    "# Set the index to the \"Movie\" column before plotting so that \n",
    "# Pandas knows to use the \"Movie\" column values on the x-axis.\n",
    "pixar.set_index(\"Movie\", inplace=True)\n",
    "pixar[[\"Domestic %\", \"International %\"]].plot(kind='bar', stacked=True)"
   ]
  }
 ],
 "metadata": {
  "kernelspec": {
   "display_name": "Python 3",
   "language": "python",
   "name": "python3"
  },
  "language_info": {
   "codemirror_mode": {
    "name": "ipython",
    "version": 3
   },
   "file_extension": ".py",
   "mimetype": "text/x-python",
   "name": "python",
   "nbconvert_exporter": "python",
   "pygments_lexer": "ipython3",
   "version": "3.5.0"
  }
 },
 "nbformat": 4,
 "nbformat_minor": 0
}
